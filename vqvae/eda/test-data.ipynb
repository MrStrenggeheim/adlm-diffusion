{
 "cells": [
  {
   "cell_type": "code",
   "execution_count": null,
   "metadata": {},
   "outputs": [],
   "source": [
    "import torch\n",
    "import torchvision.datasets as datasets\n",
    "import torchvision.transforms as transforms\n",
    "from torch.utils.data import DataLoader\n",
    "import time\n",
    "import os\n",
    "from datasets.amos import AmosDataset\n",
    "import numpy as np\n",
    "from PIL import Image\n",
    "\n",
    "def load_amos(path):\n",
    "    train = AmosDataset(path, split='train',\n",
    "                        transform=transforms.Compose([\n",
    "                            transforms.ToTensor(),\n",
    "                            transforms.Resize(256),\n",
    "                            transforms.CenterCrop(256),\n",
    "                            transforms.Normalize(0.5, 0.5)\n",
    "                        ]),\n",
    "                        index_range = range(0, 500)\n",
    "                        )\n",
    "\n",
    "    val = AmosDataset(path, split='val',\n",
    "                      transform=transforms.Compose([\n",
    "                            transforms.ToTensor(),\n",
    "                            transforms.Resize(256),\n",
    "                            transforms.CenterCrop(256),\n",
    "                            # transforms.Normalize(0.5, 0.5)\n",
    "                      ]),\n",
    "                      index_range=range(0, 500)\n",
    "                      )\n",
    "    return train, val\n",
    "    \n",
    "\n",
    "\n",
    "def data_loaders(train_data, val_data, batch_size):\n",
    "\n",
    "    train_loader = DataLoader(train_data,\n",
    "                              batch_size=batch_size,\n",
    "                              shuffle=True,\n",
    "                              pin_memory=True)\n",
    "    val_loader = DataLoader(val_data,\n",
    "                            batch_size=batch_size,\n",
    "                            shuffle=True,\n",
    "                            pin_memory=True)\n",
    "    return train_loader, val_loader\n",
    "\n",
    "def calc_x_train_var(train_data):\n",
    "    print('Calculating x_train_var')\n",
    "    all_images = []\n",
    "    for img, _ in train_data:\n",
    "        img = img / 255.0\n",
    "        all_images.append(img.flatten())\n",
    "    all_images = np.concatenate(all_images)\n",
    "    return np.var(all_images)\n",
    "        \n",
    "\n",
    "def load_data_and_data_loaders(path, batch_size):\n",
    "    training_data, validation_data = load_amos(path)\n",
    "    training_loader, validation_loader = data_loaders(\n",
    "        training_data, validation_data, batch_size)\n",
    "    # x_train_var = calc_x_train_var(training_data)\n",
    "\n",
    "    return training_data, validation_data, training_loader, validation_loader#, x_train_var"
   ]
  },
  {
   "cell_type": "code",
   "execution_count": null,
   "metadata": {},
   "outputs": [],
   "source": [
    "tr, va, trl, val = load_data_and_data_loaders('/vol/aimspace/users/hunecke/diffusion/data/amos_slices/', 16)"
   ]
  },
  {
   "cell_type": "code",
   "execution_count": null,
   "metadata": {},
   "outputs": [],
   "source": [
    "trl = iter(trl)"
   ]
  },
  {
   "cell_type": "code",
   "execution_count": null,
   "metadata": {},
   "outputs": [],
   "source": [
    "tr[0]"
   ]
  },
  {
   "cell_type": "code",
   "execution_count": null,
   "metadata": {},
   "outputs": [],
   "source": [
    "tr[100][0][0].min()"
   ]
  },
  {
   "cell_type": "code",
   "execution_count": null,
   "metadata": {},
   "outputs": [],
   "source": [
    "tr[100][0][0]\n"
   ]
  },
  {
   "cell_type": "code",
   "execution_count": null,
   "metadata": {},
   "outputs": [],
   "source": []
  },
  {
   "cell_type": "code",
   "execution_count": null,
   "metadata": {},
   "outputs": [],
   "source": []
  }
 ],
 "metadata": {
  "kernelspec": {
   "display_name": "py312",
   "language": "python",
   "name": "python3"
  },
  "language_info": {
   "codemirror_mode": {
    "name": "ipython",
    "version": 3
   },
   "file_extension": ".py",
   "mimetype": "text/x-python",
   "name": "python",
   "nbconvert_exporter": "python",
   "pygments_lexer": "ipython3",
   "version": "3.12.7"
  }
 },
 "nbformat": 4,
 "nbformat_minor": 2
}
